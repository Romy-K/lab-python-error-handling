{
 "cells": [
  {
   "cell_type": "markdown",
   "id": "25d7736c-ba17-4aff-b6bb-66eba20fbf4e",
   "metadata": {},
   "source": [
    "# Lab | Error Handling"
   ]
  },
  {
   "cell_type": "code",
   "execution_count": 3,
   "id": "be80c4ec-a606-458b-9f1d-85cb3b2a4301",
   "metadata": {},
   "outputs": [],
   "source": [
    "products = [\"t-shirt\", \"mug\", \"hat\", \"book\", \"keychain\"]\n",
    "inventory = {}"
   ]
  },
  {
   "cell_type": "code",
   "execution_count": 4,
   "id": "2753269c-197d-4945-99c1-f432ef9b369d",
   "metadata": {},
   "outputs": [],
   "source": [
    "def initialize_inventory(products):\n",
    "    # Initialize inventory using global keyword\n",
    "    global inventory\n",
    "    total_available_products = 0  # Initialize count tracker\n",
    "    \n",
    "    for product in products:\n",
    "        valid_quantity = False\n",
    "        while not valid_quantity:\n",
    "            try:\n",
    "                quantity = int(input(f\"How many {product}s available? \"))\n",
    "            except ValueError:\n",
    "                print(\"Invalid input. Please enter a numeric value.\")\n",
    "                continue  # Go back to the start of the loop to ask again\n",
    "\n",
    "            # Check quantity is non-negative after successful conversion\n",
    "            if quantity < 0:\n",
    "                print(\"Invalid quantity! Please enter a non-negative value.\")\n",
    "            else:\n",
    "                valid_quantity = True\n",
    "                inventory[product] = quantity  # Store the quantity in the inventory\n",
    "                total_available_products += quantity  # Sum the total availability\n",
    "\n",
    "    # Display the initial inventory\n",
    "    print(\"Initial inventory:\")\n",
    "    for product, quantity in inventory.items():\n",
    "        print(f\"{product}: {quantity}\")\n",
    "    print(f\"Total products: {total_available_products}\")\n",
    "    \n",
    "    return total_available_products  # Return calculated total"
   ]
  },
  {
   "cell_type": "code",
   "execution_count": 5,
   "id": "44aa566e-5c04-4dc4-8304-3d5d8e11dc96",
   "metadata": {},
   "outputs": [],
   "source": [
    "customer_orders = set() "
   ]
  },
  {
   "cell_type": "code",
   "execution_count": 6,
   "id": "d64756f3-836f-47ff-8f23-5380b9d570d2",
   "metadata": {},
   "outputs": [],
   "source": [
    "def get_customer_orders(products, inventory):\n",
    "    global customer_orders\n",
    "    ordering = True\n",
    "    order_count = 0\n",
    "    customer_orders = set()\n",
    "\n",
    "\n",
    "    print(f\"\\n Welcome to Customer Order Management. \")\n",
    "\n",
    "    while ordering:\n",
    "        try:\n",
    "            order_amount = int(input(\"Enter the amount of products ordered. \"))\n",
    "            \n",
    "            if order_amount < 0:\n",
    "                print(\"Please enter a non-negative number.\")\n",
    "                continue\n",
    "                \n",
    "        except ValueError:\n",
    "            print(\"Enter a valid number.\")\n",
    "            continue\n",
    "\n",
    "        if order_amount > 5:\n",
    "            print(f\"Only 5 items available. Please enter a number under 6.\")\n",
    "            continue\n",
    "\n",
    "        while order_count < order_amount:\n",
    "            order = input(\"Enter the ordered item: \").strip().lower()\n",
    "            \n",
    "            if order in products:\n",
    "                try:\n",
    "                    if inventory.get(order, 0) > 0:\n",
    "                        customer_orders.add(order)\n",
    "                        order_count += 1\n",
    "                    else:\n",
    "                        raise ValueError(\"Item out of stock. Choose an item that's available.\")    \n",
    "                except ValueError as e:\n",
    "                    print(e)\n",
    "            else: \n",
    "                print(\"Item not available. Choose an item from the inventory.\")\n",
    "           \n",
    "        if order_count >= order_amount:\n",
    "            break\n",
    "    \n",
    "    print(f\"Items ordered: {len(customer_orders)}\")\n",
    "    return customer_orders"
   ]
  },
  {
   "cell_type": "code",
   "execution_count": 7,
   "id": "8fe667a0-3a08-4e7d-bdd9-c515b4019465",
   "metadata": {},
   "outputs": [],
   "source": [
    "def update_inventory(customer_orders, inventory):\n",
    "    for item in customer_orders:\n",
    "        if inventory[item] > 0: \n",
    "            inventory[item] = max(0, inventory[item] - 1)\n",
    "            if inventory[item] == 0:\n",
    "                del inventory[item]\n",
    "    print(\"Customer orders: \", customer_orders)"
   ]
  },
  {
   "cell_type": "code",
   "execution_count": 8,
   "id": "52e91172-f21b-474d-bd19-4924a442f562",
   "metadata": {},
   "outputs": [],
   "source": [
    "def calculate_order_statistics(customer_orders, total_available_products):\n",
    "    total_products_ordered = len(customer_orders)\n",
    "    percentage_ordered = (total_products_ordered / total_available_products) * 100\n",
    "    print(f\"The total number of products ordered is {total_products_ordered}.\")\n",
    "    print(f\"Percentage of Products Ordered: {percentage_ordered:.2f}%\")\n",
    "    return total_products_ordered, percentage_ordered"
   ]
  },
  {
   "cell_type": "code",
   "execution_count": 9,
   "id": "69c9a328-dfee-4049-abbe-2ed4b76bd30b",
   "metadata": {},
   "outputs": [],
   "source": [
    "def print_updated_inventory(inventory):\n",
    "    print(\"\\n Updated inventory:\")\n",
    "    for item, quantity in inventory.items():\n",
    "        print(f\"{item}: {quantity}\") "
   ]
  },
  {
   "cell_type": "code",
   "execution_count": 10,
   "id": "bb159306-7a19-4cec-a732-9e6c96227242",
   "metadata": {},
   "outputs": [],
   "source": [
    "def get_price(customer_orders):\n",
    "    price_valid = False\n",
    "\n",
    "    while not price_valid:\n",
    "        try:\n",
    "            # Collect the prices\n",
    "            product_price = {product: float(input(f\"\\nInsert price for {product}: \")) for product in customer_orders}\n",
    "            \n",
    "            # Check that all prices are non-negative\n",
    "            if any(price < 0 for price in product_price.values()):\n",
    "                raise ValueError (\"Please enter a non-negative number.\") \n",
    "                \n",
    "            price_valid = True \n",
    "            print(\"Prices recorded:\", product_price)\n",
    "            print(f\"Total price: {sum(product_price.values())}\")\n",
    "\n",
    "        except ValueError:\n",
    "            \n",
    "            print(\"Invalid input. Please enter a valid number.\")"
   ]
  },
  {
   "cell_type": "code",
   "execution_count": 11,
   "id": "b574856c-e2d6-4150-aff5-b1542dabc2d3",
   "metadata": {},
   "outputs": [],
   "source": [
    "def cust_ord_mgmt():\n",
    "    total_available_products = initialize_inventory(products)\n",
    "    get_customer_orders(products, inventory)\n",
    "    update_inventory(customer_orders, inventory)\n",
    "    order_statistics = calculate_order_statistics(customer_orders, total_available_products)\n",
    "    print_updated_inventory(inventory)\n",
    "    get_price(customer_orders)"
   ]
  },
  {
   "cell_type": "code",
   "execution_count": 12,
   "id": "a31896e8-3c47-452e-8078-35bb798f943f",
   "metadata": {},
   "outputs": [
    {
     "name": "stdin",
     "output_type": "stream",
     "text": [
      "How many t-shirts available?  2\n",
      "How many mugs available?  0\n",
      "How many hats available?  -3\n"
     ]
    },
    {
     "name": "stdout",
     "output_type": "stream",
     "text": [
      "Invalid quantity! Please enter a non-negative value.\n"
     ]
    },
    {
     "name": "stdin",
     "output_type": "stream",
     "text": [
      "How many hats available?  2\n",
      "How many books available?  hello\n"
     ]
    },
    {
     "name": "stdout",
     "output_type": "stream",
     "text": [
      "Invalid input. Please enter a numeric value.\n"
     ]
    },
    {
     "name": "stdin",
     "output_type": "stream",
     "text": [
      "How many books available?  3\n",
      "How many keychains available?  3\n"
     ]
    },
    {
     "name": "stdout",
     "output_type": "stream",
     "text": [
      "Initial inventory:\n",
      "t-shirt: 2\n",
      "mug: 0\n",
      "hat: 2\n",
      "book: 3\n",
      "keychain: 3\n",
      "Total products: 10\n",
      "\n",
      " Welcome to Customer Order Management. \n"
     ]
    },
    {
     "name": "stdin",
     "output_type": "stream",
     "text": [
      "Enter the amount of products ordered.  -2\n"
     ]
    },
    {
     "name": "stdout",
     "output_type": "stream",
     "text": [
      "Please enter a non-negative number.\n"
     ]
    },
    {
     "name": "stdin",
     "output_type": "stream",
     "text": [
      "Enter the amount of products ordered.  123\n"
     ]
    },
    {
     "name": "stdout",
     "output_type": "stream",
     "text": [
      "Only 5 items available. Please enter a number under 6.\n"
     ]
    },
    {
     "name": "stdin",
     "output_type": "stream",
     "text": [
      "Enter the amount of products ordered.  hellooo\n"
     ]
    },
    {
     "name": "stdout",
     "output_type": "stream",
     "text": [
      "Enter a valid number.\n"
     ]
    },
    {
     "name": "stdin",
     "output_type": "stream",
     "text": [
      "Enter the amount of products ordered.  2\n",
      "Enter the ordered item:  mug\n"
     ]
    },
    {
     "name": "stdout",
     "output_type": "stream",
     "text": [
      "Item out of stock. Choose an item that's available.\n"
     ]
    },
    {
     "name": "stdin",
     "output_type": "stream",
     "text": [
      "Enter the ordered item:  book\n",
      "Enter the ordered item:  house?\n"
     ]
    },
    {
     "name": "stdout",
     "output_type": "stream",
     "text": [
      "Item not available. Choose an item from the inventory.\n"
     ]
    },
    {
     "name": "stdin",
     "output_type": "stream",
     "text": [
      "Enter the ordered item:  hat\n"
     ]
    },
    {
     "name": "stdout",
     "output_type": "stream",
     "text": [
      "Items ordered: 2\n",
      "Customer orders:  {'hat', 'book'}\n",
      "The total number of products ordered is 2.\n",
      "Percentage of Products Ordered: 20.00%\n",
      "\n",
      " Updated inventory:\n",
      "t-shirt: 2\n",
      "mug: 0\n",
      "hat: 1\n",
      "book: 2\n",
      "keychain: 3\n"
     ]
    },
    {
     "name": "stdin",
     "output_type": "stream",
     "text": [
      "\n",
      "Insert price for hat:  free\n"
     ]
    },
    {
     "name": "stdout",
     "output_type": "stream",
     "text": [
      "Invalid input. Please enter a valid number.\n"
     ]
    },
    {
     "name": "stdin",
     "output_type": "stream",
     "text": [
      "\n",
      "Insert price for hat:  -3\n",
      "\n",
      "Insert price for book:  4\n"
     ]
    },
    {
     "name": "stdout",
     "output_type": "stream",
     "text": [
      "Invalid input. Please enter a valid number.\n"
     ]
    },
    {
     "name": "stdin",
     "output_type": "stream",
     "text": [
      "\n",
      "Insert price for hat:  3\n",
      "\n",
      "Insert price for book:  4\n"
     ]
    },
    {
     "name": "stdout",
     "output_type": "stream",
     "text": [
      "Prices recorded: {'hat': 3.0, 'book': 4.0}\n",
      "Total price: 7.0\n"
     ]
    }
   ],
   "source": [
    "cust_ord_mgmt()"
   ]
  },
  {
   "cell_type": "markdown",
   "id": "bc99b386-7508-47a0-bcdb-d969deaf6c8b",
   "metadata": {},
   "source": [
    "## Exercise: Error Handling for Managing Customer Orders\n",
    "\n",
    "The implementation of your code for managing customer orders assumes that the user will always enter a valid input. \n",
    "\n",
    "For example, we could modify the `initialize_inventory` function to include error handling.\n",
    "   - If the user enters an invalid quantity (e.g., a negative value or a non-numeric value), display an error message and ask them to re-enter the quantity for that product.\n",
    "   - Use a try-except block to handle the error and continue prompting the user until a valid quantity is entered.\n",
    "\n",
    "```python\n",
    "# Step 1: Define the function for initializing the inventory with error handling\n",
    "def initialize_inventory(products):\n",
    "    inventory = {}\n",
    "    for product in products:\n",
    "        valid_quantity = False\n",
    "        while not valid_quantity:\n",
    "            try:\n",
    "                quantity = int(input(f\"Enter the quantity of {product}s available: \"))\n",
    "                if quantity < 0:\n",
    "                    raise ValueError(\"Invalid quantity! Please enter a non-negative value.\")\n",
    "                valid_quantity = True\n",
    "            except ValueError as error:\n",
    "                print(f\"Error: {error}\")\n",
    "        inventory[product] = quantity\n",
    "    return inventory\n",
    "\n",
    "# Or, in another way:\n",
    "\n",
    "def initialize_inventory(products):\n",
    "    inventory = {}\n",
    "    for product in products:\n",
    "        valid_input = False\n",
    "        while not valid_input:\n",
    "            try:\n",
    "                quantity = int(input(f\"Enter the quantity of {product}s available: \"))\n",
    "                if quantity >= 0:\n",
    "                    inventory[product] = quantity\n",
    "                    valid_input = True\n",
    "                else:\n",
    "                    print(\"Quantity cannot be negative. Please enter a valid quantity.\")\n",
    "            except ValueError:\n",
    "                print(\"Invalid input. Please enter a valid quantity.\")\n",
    "    return inventory\n",
    "```\n",
    "\n",
    "Let's enhance your code by implementing error handling to handle invalid inputs.\n",
    "\n",
    "Follow the steps below to complete the exercise:\n",
    "\n",
    "2. Modify the `calculate_total_price` function to include error handling.\n",
    "   - If the user enters an invalid price (e.g., a negative value or a non-numeric value), display an error message and ask them to re-enter the price for that product.\n",
    "   - Use a try-except block to handle the error and continue prompting the user until a valid price is entered.\n",
    "\n",
    "3. Modify the `get_customer_orders` function to include error handling.\n",
    "   - If the user enters an invalid number of orders (e.g., a negative value or a non-numeric value), display an error message and ask them to re-enter the number of orders.\n",
    "   - If the user enters an invalid product name (e.g., a product name that is not in the inventory), or that doesn't have stock available, display an error message and ask them to re-enter the product name. *Hint: you will need to pass inventory as a parameter*\n",
    "   - Use a try-except block to handle the error and continue prompting the user until a valid product name is entered.\n",
    "\n",
    "4. Test your code by running the program and deliberately entering invalid quantities and product names. Make sure the error handling mechanism works as expected.\n"
   ]
  }
 ],
 "metadata": {
  "kernelspec": {
   "display_name": "Python [conda env:base] *",
   "language": "python",
   "name": "conda-base-py"
  },
  "language_info": {
   "codemirror_mode": {
    "name": "ipython",
    "version": 3
   },
   "file_extension": ".py",
   "mimetype": "text/x-python",
   "name": "python",
   "nbconvert_exporter": "python",
   "pygments_lexer": "ipython3",
   "version": "3.12.7"
  }
 },
 "nbformat": 4,
 "nbformat_minor": 5
}
